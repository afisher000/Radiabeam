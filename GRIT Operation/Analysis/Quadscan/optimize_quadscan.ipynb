{
 "cells": [
  {
   "cell_type": "code",
   "execution_count": 3,
   "metadata": {},
   "outputs": [],
   "source": [
    "import numpy as np\n",
    "import matrix_utils as utils\n",
    "from scipy.optimize import minimize\n",
    "import pandas as pd\n",
    "import matplotlib.pyplot as plt\n",
    "\n",
    "\n",
    "def parse_inputs(x):\n",
    "    beta, alpha, emittance = x\n",
    "    gamma = (1+alpha**2)/beta\n",
    "\n",
    "    emittance = emittance*1e-7\n",
    "    return beta, alpha, gamma, emittance\n",
    "\n",
    "def print_results(x, energy, coord):\n",
    "    rel_gamma = energy / 511000\n",
    "    beta, alpha, gamma, emittance = parse_inputs(x)\n",
    "\n",
    "    print(f'---------- {coord} ----------')\n",
    "    print(f'Norm. Emittance: {rel_gamma*emittance:.2e}')\n",
    "    print(f'Beta Twiss: {beta:.2f}')\n",
    "    print(f'Alpha Twiss: {alpha:.2f}')\n",
    "    return\n",
    "\n",
    "def errorfcn(x, measurements, rigidity):\n",
    "    beta, alpha, gamma, emittance = parse_inputs(x)\n",
    "\n",
    "    beam_initial = emittance * np.array([\n",
    "        [beta, -alpha],\n",
    "        [-alpha, gamma]\n",
    "    ])\n",
    "\n",
    "    error = 0\n",
    "    for _, meas in measurements.iterrows():\n",
    "        full_matrix = utils.compute_transport_matrix(meas.Q1, meas.Q2, meas.Q3, rigidity)\n",
    "        beam_final = full_matrix.dot(beam_initial.dot(full_matrix.T))\n",
    "        pred_spotsize = np.sqrt(beam_final[0,0])*1e6 if beam_final[0,0]>0 else 1000\n",
    "        error += (meas.spotsize - pred_spotsize)**2\n",
    "\n",
    "    return error\n",
    "\n",
    "def plot_fit_vs_data(x, measurements, rigidity):\n",
    "    beta, alpha, gamma, emittance = parse_inputs(x)\n",
    "\n",
    "    beam_initial = emittance * np.array([\n",
    "        [beta, -alpha],\n",
    "        [-alpha, gamma]\n",
    "    ])\n",
    "\n",
    "    pred_spotsizes = []\n",
    "    for _, meas in measurements.iterrows():\n",
    "        full_matrix = utils.compute_transport_matrix(meas.Q1, meas.Q2, meas.Q3, rigidity)\n",
    "        beam_final = full_matrix.dot(beam_initial.dot(full_matrix.T))\n",
    "        pred_spotsizes.append(np.sqrt(beam_final[0,0])*1e6)\n",
    "    measurements['pred_spotsize'] = pred_spotsizes\n",
    "\n",
    "    fig, ax = plt.subplots()\n",
    "    ax.scatter(measurements.Q2, measurements.spotsize, label='Beam Data')\n",
    "    ax.scatter(measurements.Q2, measurements.pred_spotsize, label='Simulation Fit')\n",
    "    ax.legend()\n",
    "    return fig, ax\n",
    "\n"
   ]
  },
  {
   "cell_type": "code",
   "execution_count": 6,
   "metadata": {},
   "outputs": [
    {
     "name": "stdout",
     "output_type": "stream",
     "text": [
      "---------- X ----------\n",
      "Norm. Emittance: 8.53e-06\n",
      "Beta Twiss: 0.23\n",
      "Alpha Twiss: -0.38\n",
      "---------- Y ----------\n",
      "Norm. Emittance: 5.24e-06\n",
      "Beta Twiss: 0.72\n",
      "Alpha Twiss: 3.00\n"
     ]
    }
   ],
   "source": [
    "# Specify beam energy\n",
    "energy = 50e6 #eV\n",
    "rigidity = energy/299792458\n",
    "\n",
    "# Read data\n",
    "dataset = 'C:\\\\Users\\\\Andrew\\\\Documents\\\\GitHub\\\\Radiabeam\\\\GRIT Operation\\\\Scans\\\\2024-08-09\\\\Quadscan.csv'\n",
    "df = pd.read_csv(dataset)\n",
    "\n",
    "# Remove bad data\n",
    "df = df[df.Q2<-1]\n",
    "\n",
    "# Multiply pixels by calibration (express in um)\n",
    "calibration = df.calibration[0]\n",
    "df.xrms *= calibration*1000\n",
    "df.yrms *= calibration*1000\n",
    "df = df[['Q1', 'Q2', 'Q3', 'xrms', 'yrms']]\n",
    "\n",
    "# Prepare measurements for each\n",
    "xdf = df.rename(columns={'xrms': 'spotsize'})\n",
    "ydf = df.rename(columns={'yrms': 'spotsize'})\n",
    "ydf[['Q1', 'Q2', 'Q3']] = -1*ydf[['Q1', 'Q2', 'Q3']]\n",
    "\n",
    "# Run optimizer (emittance scaled by 1e8)\n",
    "bounds = [(0.1, 2), (-3, 3), (0, 10)] \n",
    "x0 = [1, 0, 0.6]\n",
    "xresult = minimize(lambda x: errorfcn(x, xdf, rigidity), x0, method='L-BFGS-B', bounds=bounds)\n",
    "yresult = minimize(lambda x: errorfcn(x, ydf, rigidity), x0, method='L-BFGS-B', bounds=bounds)\n",
    "\n",
    "print_results(xresult.x, energy, 'X')\n",
    "print_results(yresult.x, energy, 'Y')"
   ]
  },
  {
   "cell_type": "code",
   "execution_count": 9,
   "metadata": {},
   "outputs": [
    {
     "data": {
      "text/plain": [
       "Text(0, 0.5, 'Beam Xrms (um)')"
      ]
     },
     "execution_count": 9,
     "metadata": {},
     "output_type": "execute_result"
    },
    {
     "data": {
      "image/png": "[encoded data removed]",
      "text/plain": [
       "<Figure size 640x480 with 1 Axes>"
      ]
     },
     "metadata": {},
     "output_type": "display_data"
    }
   ],
   "source": [
    "# Plot against data\n",
    "fig, ax = plot_fit_vs_data(xresult.x, xdf, rigidity)\n",
    "ax.set_xlabel('Quad2 Current (A)')\n",
    "ax.set_ylabel('Beam Xrms (um)')\n",
    "\n",
    "\n",
    "\n",
    "# plot_fit_vs_data(yresult.x, ydf, rigidity)\n"
   ]
  },
  {
   "cell_type": "code",
   "execution_count": null,
   "metadata": {},
   "outputs": [],
   "source": []
  }
 ],
 "metadata": {
  "kernelspec": {
   "display_name": "Python 3",
   "language": "python",
   "name": "python3"
  },
  "language_info": {
   "codemirror_mode": {
    "name": "ipython",
    "version": 3
   },
   "file_extension": ".py",
   "mimetype": "text/x-python",
   "name": "python",
   "nbconvert_exporter": "python",
   "pygments_lexer": "ipython3",
   "version": "3.11.9"
  }
 },
 "nbformat": 4,
 "nbformat_minor": 2
}
