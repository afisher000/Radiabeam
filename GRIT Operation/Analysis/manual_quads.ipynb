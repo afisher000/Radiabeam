{
 "cells": [
  {
   "cell_type": "code",
   "execution_count": 21,
   "metadata": {},
   "outputs": [],
   "source": [
    "import numpy as np\n",
    "import pandas as pd\n",
    "from Utils import optimizer_utils as ou\n",
    "from Utils import matrix_utils as mu\n",
    "\n",
    "\n",
    "def compute_spotsize(x, Qs, rigidity, cam):\n",
    "    beta, alpha, gamma, emittance = ou.parse_inputs(x)\n",
    "\n",
    "    beam_initial = emittance * np.array([\n",
    "        [beta, -alpha],\n",
    "        [-alpha, gamma]\n",
    "    ])\n",
    "\n",
    "    full_matrix = mu.compute_transport_matrix(Qs[0], Qs[1], Qs[2], rigidity, cam)\n",
    "    beam_final = full_matrix.dot(beam_initial.dot(full_matrix.T))\n",
    "    pred_spotsize = np.sqrt(beam_final[0,0])*1e6 if beam_final[0,0]>0 else 1000\n",
    "\n",
    "    pred_spotsize = np.sqrt(beam_initial[0,0])*1e6 if beam_initial[0,0]>0 else 1000\n",
    "    pred_spotsize = beam_final[0,0]/emittance\n",
    "    print(f'{pred_spotsize:.2f}um')\n",
    "\n",
    "    return pred_spotsize\n",
    "\n",
    "def compute_spotsizes(x, Qs, rigidity):\n",
    "    beta, alpha, gamma, emittance = ou.parse_inputs(x)\n",
    "\n",
    "    beam_initial = emittance * np.array([\n",
    "        [beta, -alpha],\n",
    "        [-alpha, gamma]\n",
    "    ])\n",
    "\n"
   ]
  },
  {
   "cell_type": "code",
   "execution_count": 22,
   "metadata": {},
   "outputs": [
    {
     "name": "stdout",
     "output_type": "stream",
     "text": [
      "Quad Settings: [ 5.    -4.275  5.   ]\n",
      "0.29um\n",
      "0.24um\n",
      "Overall: 0um\n"
     ]
    }
   ],
   "source": [
    "# Define beam energy, screen, and beam parameters\n",
    "energy = 80e6 #eV\n",
    "cam = 'cam4'\n",
    "x0 = [1.5, -1, 0.5]\n",
    "y0 = [1.5, -1, 0.5]\n",
    "\n",
    "# Tweak quad settings manually\n",
    "asym = .145\n",
    "strength = 5\n",
    "Qs = np.array([1, -1+asym, 1])*strength\n",
    "print(f'Quad Settings: {Qs}')\n",
    "\n",
    "# Compute spotsize at screen\n",
    "rigidity = energy/299792458\n",
    "xrms = compute_spotsize(x0, Qs, rigidity, cam)\n",
    "yrms = compute_spotsize(x0, -1*Qs, rigidity, cam)\n",
    "print(f'Overall: {np.sqrt(xrms*yrms):.0f}um')\n"
   ]
  },
  {
   "cell_type": "code",
   "execution_count": null,
   "metadata": {},
   "outputs": [],
   "source": []
  },
  {
   "cell_type": "code",
   "execution_count": null,
   "metadata": {},
   "outputs": [],
   "source": []
  }
 ],
 "metadata": {
  "kernelspec": {
   "display_name": "Python 3",
   "language": "python",
   "name": "python3"
  },
  "language_info": {
   "codemirror_mode": {
    "name": "ipython",
    "version": 3
   },
   "file_extension": ".py",
   "mimetype": "text/x-python",
   "name": "python",
   "nbconvert_exporter": "python",
   "pygments_lexer": "ipython3",
   "version": "3.9.11"
  }
 },
 "nbformat": 4,
 "nbformat_minor": 2
}
