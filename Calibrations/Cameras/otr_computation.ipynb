{
 "cells": [
  {
   "cell_type": "code",
   "execution_count": 14,
   "metadata": {},
   "outputs": [],
   "source": [
    "import numpy as np\n",
    "import matplotlib.pyplot as plt\n",
    "\n",
    "qe = 1.602e-19\n",
    "hbar = 1.05e-34\n",
    "eps0 = 8.85e-12\n",
    "c0 = 3e8\n",
    "pi = 3.1415\n",
    "alpha = 1/137\n",
    "\n",
    "\n",
    "\n",
    "\n"
   ]
  },
  {
   "cell_type": "code",
   "execution_count": null,
   "metadata": {},
   "outputs": [],
   "source": [
    "# Constants\n",
    "E = 6 # MeV\n",
    "Qtot = 0.1e-12\n",
    "lambda1 = 400e-9 # Range of CCD wavelengths with QE>50%\n",
    "lambda2 = 1050e-9"
   ]
  },
  {
   "cell_type": "code",
   "execution_count": 19,
   "metadata": {},
   "outputs": [
    {
     "name": "stdout",
     "output_type": "stream",
     "text": [
      "8844\n",
      "7442\n"
     ]
    }
   ],
   "source": [
    "# Compute constants\n",
    "Ne = Qtot/qe\n",
    "gamma = E/.511\n",
    "omega2 = 2*pi*c0/lambda1\n",
    "omega1 = 2*pi*c0/lambda2\n",
    "\n",
    "# Define omega vector to integrate\n",
    "omegas = np.linspace(omega1, omega2, 1000)\n",
    "domega = omegas[2]-omegas[1]\n",
    "number_density = Ne * alpha * np.log(4*gamma**2-1) / (pi*omegas)\n",
    "nphoton  = number_density.sum()*domega\n",
    "print(f'{nphoton:.0f}')\n",
    "\n",
    "# Shorthand assuming gamma constant\n",
    "nphoton_est = Ne * (np.log(gamma)+0.193)/215 * np.log(omega2/omega1)\n",
    "print(f'{nphoton_est:.0f}')\n"
   ]
  },
  {
   "cell_type": "code",
   "execution_count": null,
   "metadata": {},
   "outputs": [],
   "source": []
  }
 ],
 "metadata": {
  "kernelspec": {
   "display_name": "Python 3",
   "language": "python",
   "name": "python3"
  },
  "language_info": {
   "codemirror_mode": {
    "name": "ipython",
    "version": 3
   },
   "file_extension": ".py",
   "mimetype": "text/x-python",
   "name": "python",
   "nbconvert_exporter": "python",
   "pygments_lexer": "ipython3",
   "version": "3.9.11"
  }
 },
 "nbformat": 4,
 "nbformat_minor": 2
}
